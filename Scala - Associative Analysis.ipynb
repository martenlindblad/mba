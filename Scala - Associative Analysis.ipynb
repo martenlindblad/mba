{
 "cells": [
  {
   "cell_type": "code",
   "execution_count": 1,
   "metadata": {
    "collapsed": false
   },
   "outputs": [],
   "source": [
    "val data = sc.textFile(\"Transactions.csv\")\n",
    "//val data = sc.textFile(\"Transactions.txt\")\n",
    "case class Ticket(TID: Int, Product: String)\n",
    "case class Frequency(Source: String, Target: String, Weight: Double)\n",
    "val kv = data.map(_.split(\",\")).map(v => Ticket(v(0).toInt, v(1))).cache()\n",
    "\n",
    "// Convert RDD to a DataFrame\n",
    "val df = sqlContext.createDataFrame(kv)\n",
    "df.registerTempTable(\"transactions\")"
   ]
  },
  {
   "cell_type": "code",
   "execution_count": 2,
   "metadata": {
    "collapsed": false
   },
   "outputs": [],
   "source": [
    "val prodFreq = sqlContext.sql(\"\"\"\n",
    "            SELECT Product, CAST(COUNT(DISTINCT TID) AS Double) as count\n",
    "            FROM transactions \n",
    "            GROUP BY Product\"\"\"\n",
    "        ).toDF()\n",
    "\n",
    "val totFreq = df.groupBy(\"TID\").count().count()\n",
    "\n",
    "val productSupport = prodFreq.select(prodFreq(\"Product\"), (prodFreq(\"count\") / totFreq).cast(\"double\").as(\"Support\")).cache()\n"
   ]
  },
  {
   "cell_type": "code",
   "execution_count": 3,
   "metadata": {
    "collapsed": false
   },
   "outputs": [],
   "source": [
    "val prodCart = sqlContext.sql(\"\"\"\n",
    "            SELECT \n",
    "                tab1.Product AS Source, \n",
    "                tab2.Product AS Target, \n",
    "                COUNT(DISTINCT tab1.TID) AS Weight \n",
    "            FROM transactions tab1 \n",
    "            JOIN transactions tab2 \n",
    "            WHERE tab1.TID = tab2.TID AND tab1.Product <> tab2.Product\n",
    "            GROUP BY tab1.Product, tab2.Product\"\"\"\n",
    "        ).toDF().cache()\n",
    "\n"
   ]
  },
  {
   "cell_type": "code",
   "execution_count": 4,
   "metadata": {
    "collapsed": false
   },
   "outputs": [],
   "source": [
    "val ruleSupport = prodCart.select(\n",
    "            prodCart(\"Source\"), \n",
    "            prodCart(\"Target\"), \n",
    "            (prodCart(\"Weight\").cast(\"double\") / totFreq.toDouble).as(\"Support\")\n",
    "            ).cache()\n",
    "\n",
    "val ruleConfidence = prodCart.join(prodFreq, prodCart(\"Source\") === prodFreq(\"Product\")).select(\n",
    "            prodCart(\"Source\"), \n",
    "            prodCart(\"Target\"), \n",
    "            (prodCart(\"Weight\").cast(\"double\") / prodFreq(\"count\")).as(\"Confidence\")\n",
    "            ).cache()"
   ]
  },
  {
   "cell_type": "code",
   "execution_count": 7,
   "metadata": {
    "collapsed": false
   },
   "outputs": [],
   "source": [
    "val ruleConfSup = ruleSupport.join(ruleConfidence, ruleSupport(\"Source\") === ruleConfidence(\"Source\") and \n",
    "    ruleSupport(\"Target\") === ruleConfidence(\"Target\")).select(\n",
    "        ruleSupport(\"Source\"),\n",
    "        ruleSupport(\"Target\"),\n",
    "        ruleSupport(\"Support\"),\n",
    "        ruleConfidence(\"Confidence\")\n",
    "    )"
   ]
  },
  {
   "cell_type": "code",
   "execution_count": 37,
   "metadata": {
    "collapsed": false
   },
   "outputs": [
    {
     "data": {
      "text/plain": [
       "Name: Syntax Error.\n",
       "Message: \n",
       "StackTrace: "
      ]
     },
     "execution_count": 37,
     "metadata": {},
     "output_type": "execute_result"
    }
   ],
   "source": [
    "//lift(X-->Y) = ( (sup(X U Y)/ N) / (sup(X)/ N*sup(Y)/ N ), "
   ]
  },
  {
   "cell_type": "code",
   "execution_count": 8,
   "metadata": {
    "collapsed": false
   },
   "outputs": [],
   "source": [
    "ruleSupport.registerTempTable(\"rulesupport\")\n",
    "productSupport.registerTempTable(\"productsupport\")\n",
    "ruleConfSup.registerTempTable(\"ruleconfsup\")"
   ]
  },
  {
   "cell_type": "code",
   "execution_count": 15,
   "metadata": {
    "collapsed": false
   },
   "outputs": [],
   "source": [
    "val queryString = \"SELECT rs.Source, rs.Target, rs.Support, rs.Confidence, (rs.Support / \"+ totFreq.toString+ \" / (ss.Support / (ts.Support * \"+ totFreq.toString+ \") / \"+ totFreq.toString+ \"\"\"\n",
    "        )) AS Lift FROM ruleconfsup AS rs\n",
    "        JOIN productsupport AS ss ON rs.Source = ss.Product\n",
    "        JOIN productsupport AS ts ON rs.Target = ts.Product\"\"\"\n"
   ]
  },
  {
   "cell_type": "code",
   "execution_count": 16,
   "metadata": {
    "collapsed": false
   },
   "outputs": [],
   "source": [
    "val fullMBA = sqlContext.sql(queryString)"
   ]
  },
  {
   "cell_type": "code",
   "execution_count": 17,
   "metadata": {
    "collapsed": false
   },
   "outputs": [],
   "source": [
    "fullMBA.repartition(1).save(\"mba\", \"json\")"
   ]
  },
  {
   "cell_type": "code",
   "execution_count": null,
   "metadata": {
    "collapsed": true
   },
   "outputs": [],
   "source": []
  }
 ],
 "metadata": {
  "kernelspec": {
   "display_name": "Apache_Toree",
   "language": "",
   "name": "apache_toree"
  },
  "language_info": {
   "name": "scala"
  }
 },
 "nbformat": 4,
 "nbformat_minor": 0
}
