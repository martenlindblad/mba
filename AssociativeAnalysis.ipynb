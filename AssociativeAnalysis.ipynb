{
 "cells": [
  {
   "cell_type": "code",
   "execution_count": 13,
   "metadata": {
    "collapsed": true
   },
   "outputs": [],
   "source": [
    "import org.apache.spark.sql.expressions.Window\n",
    "import org.apache.spark.sql.functions._"
   ]
  },
  {
   "cell_type": "code",
   "execution_count": 14,
   "metadata": {
    "collapsed": false
   },
   "outputs": [],
   "source": [
    "case class Ticket( \n",
    "    TID: String, \n",
    "    Product: String)\n",
    "\n",
    "case class Frequency(\n",
    "    Source: String, \n",
    "    Target: String, \n",
    "    Weight: Double)"
   ]
  },
  {
   "cell_type": "code",
   "execution_count": 15,
   "metadata": {
    "collapsed": false
   },
   "outputs": [],
   "source": [
    "// Ladda data, i detta fall semikolon-separerade (\";\")\n",
    "val data = sc.textFile(\"Transactions.csv\")\n",
    "val kv = data.map(_.split(\";\")).map(v => Ticket(v(0), v(1))).cache()\n",
    "\n",
    "// Skapa en Spark DataFrame och registrera den i SQL-kontexten\n",
    "val df = sqlContext.createDataFrame(kv)\n",
    "df.registerTempTable(\"transactions\")"
   ]
  },
  {
   "cell_type": "code",
   "execution_count": 16,
   "metadata": {
    "collapsed": false
   },
   "outputs": [],
   "source": [
    "// Generera produktsupport\n",
    "val prodFreq = sqlContext.sql(\"\"\"\n",
    "            SELECT Product, CAST(COUNT(DISTINCT TID) AS Double) as count\n",
    "            FROM transactions \n",
    "            GROUP BY Product\"\"\"\n",
    "        ).toDF()\n",
    "\n",
    "val totFreq = df.groupBy(\"TID\").count().count()\n",
    "\n",
    "val productSupport = prodFreq.select(prodFreq(\"Product\"), (prodFreq(\"count\") / totFreq).cast(\"double\").as(\"Support\")).cache()"
   ]
  },
  {
   "cell_type": "code",
   "execution_count": 17,
   "metadata": {
    "collapsed": false
   },
   "outputs": [],
   "source": [
    "val prodCart = sqlContext.sql(\"\"\"\n",
    "            SELECT \n",
    "                tab1.Product AS Source, \n",
    "                tab2.Product AS Target, \n",
    "                COUNT(DISTINCT tab1.TID) AS Weight \n",
    "            FROM transactions tab1 \n",
    "            JOIN transactions tab2 \n",
    "            WHERE tab1.TID = tab2.TID AND tab1.Product <> tab2.Product\n",
    "            GROUP BY tab1.Product, tab2.Product\"\"\"\n",
    "        ).toDF().cache()"
   ]
  },
  {
   "cell_type": "code",
   "execution_count": 18,
   "metadata": {
    "collapsed": false
   },
   "outputs": [],
   "source": [
    "val ruleSupport = prodCart.select(\n",
    "            prodCart(\"Source\"), \n",
    "            prodCart(\"Target\"), \n",
    "            (prodCart(\"Weight\").cast(\"double\") / totFreq.toDouble).as(\"Support\")\n",
    "            ).cache()\n",
    "\n",
    "val ruleConfidence = prodCart.join(prodFreq, prodCart(\"Source\") === prodFreq(\"Product\")).select(\n",
    "            prodCart(\"Source\"), \n",
    "            prodCart(\"Target\"), \n",
    "            (prodCart(\"Weight\").cast(\"double\") / prodFreq(\"count\")).as(\"Confidence\")\n",
    "            ).cache()"
   ]
  },
  {
   "cell_type": "code",
   "execution_count": 19,
   "metadata": {
    "collapsed": false
   },
   "outputs": [],
   "source": [
    "val ruleConfSup = ruleSupport.join(ruleConfidence, ruleSupport(\"Source\") === ruleConfidence(\"Source\") and \n",
    "    ruleSupport(\"Target\") === ruleConfidence(\"Target\")).select(\n",
    "        ruleSupport(\"Source\"),\n",
    "        ruleSupport(\"Target\"),\n",
    "        ruleSupport(\"Support\"),\n",
    "        ruleConfidence(\"Confidence\")\n",
    "    )"
   ]
  },
  {
   "cell_type": "code",
   "execution_count": 20,
   "metadata": {
    "collapsed": false
   },
   "outputs": [],
   "source": [
    "ruleSupport.registerTempTable(\"rulesupport\")\n",
    "productSupport.registerTempTable(\"productsupport\")\n",
    "ruleConfSup.registerTempTable(\"ruleconfsup\")"
   ]
  },
  {
   "cell_type": "code",
   "execution_count": 21,
   "metadata": {
    "collapsed": false
   },
   "outputs": [],
   "source": [
    "// Formulan för lift(X-->Y) = ( (sup(X U Y)/ N) / (sup(X)/ N*sup(Y)/ N )\n",
    "val queryString = \"SELECT rs.Source, rs.Target, rs.Support, rs.Confidence, (rs.Support / \"+ totFreq.toString+ \" / (ss.Support / (ts.Support * \"+ totFreq.toString+ \") / \"+ totFreq.toString+ \"\"\"\n",
    "        )) AS Lift FROM ruleconfsup AS rs\n",
    "        JOIN productsupport AS ss ON rs.Source = ss.Product\n",
    "        JOIN productsupport AS ts ON rs.Target = ts.Product\"\"\""
   ]
  },
  {
   "cell_type": "code",
   "execution_count": 22,
   "metadata": {
    "collapsed": false
   },
   "outputs": [],
   "source": [
    "val fullMBA = sqlContext.sql(queryString).cache()"
   ]
  },
  {
   "cell_type": "code",
   "execution_count": 23,
   "metadata": {
    "collapsed": false
   },
   "outputs": [],
   "source": [
    "// Spara resultatet\n",
    "fullMBA.repartition(1).save(\"Rules\", \"json\")\n",
    "productSupport.repartition(1).save(\"Products\", \"json\")"
   ]
  }
 ],
 "metadata": {
  "kernelspec": {
   "display_name": "Apache_Toree",
   "language": "",
   "name": "apache_toree"
  },
  "language_info": {
   "name": "scala"
  }
 },
 "nbformat": 4,
 "nbformat_minor": 0
}
